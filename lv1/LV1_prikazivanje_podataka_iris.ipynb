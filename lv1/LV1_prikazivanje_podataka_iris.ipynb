{
 "cells": [
  {
   "cell_type": "markdown",
   "metadata": {
    "id": "KrfC5or2IBrl"
   },
   "source": [
    "Korak 1: Učitavanje Podataka\n",
    "\n",
    "Prvo ćemo koristiti biblioteku Pandas za učitavanje skupa podataka. Skup podataka može biti spremljen u različitim formatima, kao što su CSV ili Excel. Važno je osigurati da je skup podataka ispravno učitan i pripremljen za analizu."
   ]
  },
  {
   "cell_type": "code",
   "execution_count": null,
   "metadata": {
    "id": "2nrBUX_ZJf0R"
   },
   "outputs": [],
   "source": [
    "import pandas as pd\n",
    "data = pd.read_csv('putanja_do_datoteke.csv')\n"
   ]
  },
  {
   "cell_type": "markdown",
   "metadata": {
    "id": "hiOqxmjSKB9A"
   },
   "source": [
    "Učivanje podataka i konvertiranje tipova podataka"
   ]
  },
  {
   "cell_type": "code",
   "execution_count": 1,
   "metadata": {
    "id": "WTdaXlWhKHu5"
   },
   "outputs": [],
   "source": [
    "import pandas as pd\n",
    "\n",
    "james_bond_data = pd.read_csv('jamesbond.csv').convert_dtypes()"
   ]
  },
  {
   "cell_type": "markdown",
   "metadata": {
    "id": "QzRJZfV9KIsC"
   },
   "source": [
    "Gornji kod radi sljedeće:\n",
    "\n",
    "Učitavanje podataka: Koristi funkciju\n",
    "\n",
    "    pd.read_csv(\"james_bond_data.csv\")\n",
    "    \n",
    "za učitavanje podataka iz CSV datoteke pod nazivom james_bond_data.csv.\n",
    "\n",
    "Konvertiranje tipova podataka: Metoda\n",
    "\n",
    "    .convert_dtypes()\n",
    "    \n",
    "automatski konvertira tipove podataka stupaca u optimalne tipove (npr. pretvaranje int64 u Int64 ili object u string). Ovo pomaže u optimizaciji memorije i olakšava rad s podacima."
   ]
  },
  {
   "cell_type": "markdown",
   "metadata": {
    "id": "fB-dEkgpMDzU"
   },
   "source": [
    "# **Eksplorativna analiza podataka**\n",
    "\n",
    "Eksplorativna analiza podataka (EDA) pomaže nam da bolje razumijemo skup podataka prije nego što krenemo s dubljom analizom. Ovo uključuje statističke sažetke, vizualizacije, i identifikaciju osnovnih uzoraka i odnosa u podacima.\n",
    "\n",
    "**Pregled podataka:** Pregledajte prvih nekoliko redaka skupa podataka kako biste dobili uvid u strukturu.\n",
    "\n",
    "**Opisne statistike:** Koristite .describe() za dobivanje statističkog sažetka podataka.\n",
    "\n",
    "**Provjera jedinstvenih vrijednosti:** Provjerite jedinstvene vrijednosti u stupcu kako biste uočili moguće kategorijske varijable.\n",
    "\n",
    "**Vizualizacija odnosa:** Koristite Matplotlib i Seaborn za vizualizaciju odnosa između varijabli.\n",
    "\n",
    "\n",
    "\n",
    "```\n",
    "import pandas as pd\n",
    "\n",
    "# Učitavanje skupa podataka\n",
    "data = pd.read_csv('putanja_do_datoteke.csv')\n",
    "\n",
    "# Pregled prvih nekoliko redaka skupa podataka\n",
    "print(data.head())\n",
    "\n",
    "# Prikaz tipova varijabli i osnovnih informacija o skupu podataka (npr. nedostajućim vrijednostima)\n",
    "print(data.info())\n",
    "\n",
    "# Opisna statistika za numeričke varijable\n",
    "print(data.describe())\n",
    "\n",
    "# Broj podataka za svaku varijablu (uključujući broj nedostajućih vrijednosti)\n",
    "print(data.count())\n",
    "\n",
    "# Pregled broja redaka i stupaca u skupu podataka\n",
    "print(data.shape)  # Vraća (broj_redaka, broj_stupaca)\n",
    "\n",
    "```\n",
    "\n"
   ]
  },
  {
   "cell_type": "markdown",
   "metadata": {
    "id": "WfCahtCvJlHg"
   },
   "source": [
    "**Čišćenje Podataka**\n",
    "\n",
    "Podaci često imaju nedostajuće vrijednosti ili nepravilnosti koje treba obraditi prije analize. Iskoristite funkcije kao dropna() ili fillna() za rješavanje ovih problema.\n",
    "\n",
    "```\n",
    "# Provjera broja nedostajućih vrijednosti po stupcima\n",
    "print(data.isnull().sum())\n",
    "\n",
    "# Uklanjanje redaka s nedostajućim vrijednostima\n",
    "data = data.dropna()\n",
    "\n",
    "# Ili popunjavanje nedostajućih vrijednosti (primjer popunjavanja s prosjekom)\n",
    "data['kolona'] = data['kolona'].fillna(data['kolona'].mean())\n",
    "```\n",
    "\n"
   ]
  },
  {
   "cell_type": "markdown",
   "metadata": {
    "id": "FjnT6D7tOXSy"
   },
   "source": [
    "Brisanje duplikata\n",
    "\n",
    "\n",
    "\n",
    "```\n",
    "import pandas as pd\n",
    "\n",
    "# Učitavanje skupa podataka\n",
    "df = pd.read_csv('primjer_podataka.csv')\n",
    "\n",
    "# Uklanjanje dupliciranih redaka na temelju stupaca 'Ime' i 'Prezime'\n",
    "df_cleaned = df.drop_duplicates(subset=['Ime', 'Prezime'], keep='first')\n",
    "\n",
    "# Pregled podataka nakon uklanjanja duplikata\n",
    "print(df_cleaned.head())\n",
    "\n",
    "```\n",
    "\n"
   ]
  },
  {
   "cell_type": "code",
   "execution_count": 2,
   "metadata": {
    "colab": {
     "base_uri": "https://localhost:8080/",
     "height": 206
    },
    "executionInfo": {
     "elapsed": 308,
     "status": "ok",
     "timestamp": 1729500152295,
     "user": {
      "displayName": "Ivana Hartmann Tolić",
      "userId": "05725331721369228172"
     },
     "user_tz": -120
    },
    "id": "gxg7KneANd3e",
    "outputId": "5c135a0c-5646-4f18-9d91-d98320889724"
   },
   "outputs": [
    {
     "data": {
      "text/html": [
       "<div>\n",
       "<style scoped>\n",
       "    .dataframe tbody tr th:only-of-type {\n",
       "        vertical-align: middle;\n",
       "    }\n",
       "\n",
       "    .dataframe tbody tr th {\n",
       "        vertical-align: top;\n",
       "    }\n",
       "\n",
       "    .dataframe thead th {\n",
       "        text-align: right;\n",
       "    }\n",
       "</style>\n",
       "<table border=\"1\" class=\"dataframe\">\n",
       "  <thead>\n",
       "    <tr style=\"text-align: right;\">\n",
       "      <th></th>\n",
       "      <th>sepal length (cm)</th>\n",
       "      <th>sepal width (cm)</th>\n",
       "      <th>petal length (cm)</th>\n",
       "      <th>petal width (cm)</th>\n",
       "      <th>species</th>\n",
       "    </tr>\n",
       "  </thead>\n",
       "  <tbody>\n",
       "    <tr>\n",
       "      <th>0</th>\n",
       "      <td>5.1</td>\n",
       "      <td>3.5</td>\n",
       "      <td>1.4</td>\n",
       "      <td>0.2</td>\n",
       "      <td>setosa</td>\n",
       "    </tr>\n",
       "    <tr>\n",
       "      <th>1</th>\n",
       "      <td>4.9</td>\n",
       "      <td>3.0</td>\n",
       "      <td>1.4</td>\n",
       "      <td>0.2</td>\n",
       "      <td>setosa</td>\n",
       "    </tr>\n",
       "    <tr>\n",
       "      <th>2</th>\n",
       "      <td>4.7</td>\n",
       "      <td>3.2</td>\n",
       "      <td>1.3</td>\n",
       "      <td>0.2</td>\n",
       "      <td>setosa</td>\n",
       "    </tr>\n",
       "    <tr>\n",
       "      <th>3</th>\n",
       "      <td>4.6</td>\n",
       "      <td>3.1</td>\n",
       "      <td>1.5</td>\n",
       "      <td>0.2</td>\n",
       "      <td>setosa</td>\n",
       "    </tr>\n",
       "    <tr>\n",
       "      <th>4</th>\n",
       "      <td>5.0</td>\n",
       "      <td>3.6</td>\n",
       "      <td>1.4</td>\n",
       "      <td>0.2</td>\n",
       "      <td>setosa</td>\n",
       "    </tr>\n",
       "  </tbody>\n",
       "</table>\n",
       "</div>"
      ],
      "text/plain": [
       "   sepal length (cm)  sepal width (cm)  petal length (cm)  petal width (cm)  \\\n",
       "0                5.1               3.5                1.4               0.2   \n",
       "1                4.9               3.0                1.4               0.2   \n",
       "2                4.7               3.2                1.3               0.2   \n",
       "3                4.6               3.1                1.5               0.2   \n",
       "4                5.0               3.6                1.4               0.2   \n",
       "\n",
       "  species  \n",
       "0  setosa  \n",
       "1  setosa  \n",
       "2  setosa  \n",
       "3  setosa  \n",
       "4  setosa  "
      ]
     },
     "execution_count": 2,
     "metadata": {},
     "output_type": "execute_result"
    }
   ],
   "source": [
    "import pandas as pd\n",
    "from sklearn.datasets import load_iris\n",
    "iris = load_iris()\n",
    "df=pd.DataFrame(data=iris.data, columns=iris.feature_names)\n",
    "df['species'] = pd.Categorical.from_codes(iris.target,iris.target_names)\n",
    "df.head()"
   ]
  },
  {
   "cell_type": "markdown",
   "metadata": {
    "id": "FJs-DlwxSi4G"
   },
   "source": [
    "Ovaj kod gore pretvara podatke iz skupa podataka o iris cvijetu u tablični format koristeći Pandas, što olakšava daljnju analizu podataka.\n",
    "\n",
    "1. Učitavanje skupa podataka o iris cvijetu iz ugrađene biblioteke sklearn  \n",
    "\n",
    "```\n",
    "from sklearn.datasets import load_iris\n",
    "iris = load_iris()\n",
    "```\n",
    "\n",
    "\n",
    "2. Pretvaranje podataka u Pandas DataFrame s nazivima stupaca koji odgovaraju značajkama cvijeta (dužina i širina čašičnih i latnih listića).\n",
    "\n",
    "\n",
    "```\n",
    "df = pd.DataFrame(data=iris.data, columns=iris.feature_names)\n",
    "\n",
    "```\n",
    "\n",
    "3. Dodavanje stupca vrste cvijeta (species) u DataFrame koristeći ciljne vrijednosti (iris.target) i nazive vrsta (iris.target_names).\n",
    "\n",
    "\n",
    "```\n",
    "\n",
    "df['species'] = pd.Categorical.from_codes(iris.target, iris.target_names)\n",
    "\n",
    "```\n",
    "Prikaz prvih nekoliko redaka DataFrame-a.\n",
    "\n",
    "\n",
    "\n",
    "```\n",
    " df.head()\n",
    "\n",
    "```\n",
    "\n",
    "\n"
   ]
  },
  {
   "cell_type": "markdown",
   "metadata": {
    "id": "Vq0wbYpSHcF8"
   },
   "source": [
    "\n",
    "Detaljna Deskriptivna Statistika s Iris Datasetom\n",
    "\n",
    "**Uvod:**\n",
    "\n",
    "Ovaj primjer koristi popularni Iris skup podataka kako bi prikazao korake za detaljnu deskriptivnu statistiku.\n",
    "\n",
    "Dataset se sastoji od četiri numeričke varijable koje opisuju karakteristike cvijeta, te jedne kategorijske varijable koja označava vrstu cvijeta."
   ]
  },
  {
   "cell_type": "code",
   "execution_count": 3,
   "metadata": {
    "id": "omCMwuFNT436"
   },
   "outputs": [],
   "source": [
    "import pandas as pd\n",
    "import seaborn as sns\n",
    "from scipy.stats import skew, kurtosis\n",
    "import matplotlib.pyplot as plt"
   ]
  },
  {
   "cell_type": "code",
   "execution_count": 4,
   "metadata": {
    "id": "XyFBIAE9H9qA"
   },
   "outputs": [],
   "source": [
    "# Učitavanje podataka\n",
    "iris = sns.load_dataset('iris')"
   ]
  },
  {
   "cell_type": "code",
   "execution_count": 5,
   "metadata": {
    "colab": {
     "base_uri": "https://localhost:8080/"
    },
    "executionInfo": {
     "elapsed": 340,
     "status": "ok",
     "timestamp": 1729548532113,
     "user": {
      "displayName": "Ivana Hartmann Tolić",
      "userId": "05725331721369228172"
     },
     "user_tz": -120
    },
    "id": "oafIcz0XIBDs",
    "outputId": "4338e084-4e8a-4a06-f482-18dd0788bc75"
   },
   "outputs": [
    {
     "name": "stdout",
     "output_type": "stream",
     "text": [
      "Prvih 5 redaka skupa podataka:\n",
      "   sepal_length  sepal_width  petal_length  petal_width species\n",
      "0           5.1          3.5           1.4          0.2  setosa\n",
      "1           4.9          3.0           1.4          0.2  setosa\n",
      "2           4.7          3.2           1.3          0.2  setosa\n",
      "3           4.6          3.1           1.5          0.2  setosa\n",
      "4           5.0          3.6           1.4          0.2  setosa\n",
      "\n",
      "Osnovne informacije o skupu podataka:\n",
      "<class 'pandas.core.frame.DataFrame'>\n",
      "RangeIndex: 150 entries, 0 to 149\n",
      "Data columns (total 5 columns):\n",
      " #   Column        Non-Null Count  Dtype  \n",
      "---  ------        --------------  -----  \n",
      " 0   sepal_length  150 non-null    float64\n",
      " 1   sepal_width   150 non-null    float64\n",
      " 2   petal_length  150 non-null    float64\n",
      " 3   petal_width   150 non-null    float64\n",
      " 4   species       150 non-null    object \n",
      "dtypes: float64(4), object(1)\n",
      "memory usage: 6.0+ KB\n",
      "None\n"
     ]
    }
   ],
   "source": [
    "# 1. Pregled podataka\n",
    "print(\"Prvih 5 redaka skupa podataka:\")\n",
    "print(iris.head())\n",
    "print(\"\\nOsnovne informacije o skupu podataka:\")\n",
    "print(iris.info())"
   ]
  },
  {
   "cell_type": "markdown",
   "metadata": {
    "id": "7L4con5WIUKv"
   },
   "source": [
    "Ove informacije predstavljaju osnovne karakteristike Iris skupa podataka koji se učitava u obliku Pandas DataFrame-a:\n",
    "\n",
    "RangeIndex: 150 entries, 0 to 149: Skup podataka ima 150 redaka (primjera), s indeksima od 0 do 149.\n",
    "\n",
    "Data columns (total 5 columns): Skup podataka sadrži 5 stupaca.\n",
    "\n",
    "Column Information:\n",
    "\n",
    "sepal_length, sepal_width, petal_length, petal_width: Numerički stupci (float64), svaki s 150 vrijednosti bez nedostajućih podataka.\n",
    "\n",
    "species: Kategorijski stupac (object), koji predstavlja vrstu cvijeta (setosa, versicolor, virginica)."
   ]
  },
  {
   "cell_type": "code",
   "execution_count": 6,
   "metadata": {
    "colab": {
     "base_uri": "https://localhost:8080/"
    },
    "executionInfo": {
     "elapsed": 323,
     "status": "ok",
     "timestamp": 1729548716543,
     "user": {
      "displayName": "Ivana Hartmann Tolić",
      "userId": "05725331721369228172"
     },
     "user_tz": -120
    },
    "id": "4kapVlEnIDSU",
    "outputId": "17bc7bd6-d2a2-4433-c1d1-e2ff1c8ba861"
   },
   "outputs": [
    {
     "name": "stdout",
     "output_type": "stream",
     "text": [
      "\n",
      "Deskriptivna statistika:\n",
      "       sepal_length  sepal_width  petal_length  petal_width\n",
      "count    150.000000   150.000000    150.000000   150.000000\n",
      "mean       5.843333     3.057333      3.758000     1.199333\n",
      "std        0.828066     0.435866      1.765298     0.762238\n",
      "min        4.300000     2.000000      1.000000     0.100000\n",
      "25%        5.100000     2.800000      1.600000     0.300000\n",
      "50%        5.800000     3.000000      4.350000     1.300000\n",
      "75%        6.400000     3.300000      5.100000     1.800000\n",
      "max        7.900000     4.400000      6.900000     2.500000\n"
     ]
    }
   ],
   "source": [
    "# 2. dio deskriptivne statistike ali za cijeli skup\n",
    "print(\"\\nDeskriptivna statistika:\")\n",
    "print(iris.describe())"
   ]
  },
  {
   "cell_type": "code",
   "execution_count": null,
   "metadata": {
    "colab": {
     "base_uri": "https://localhost:8080/"
    },
    "executionInfo": {
     "elapsed": 308,
     "status": "ok",
     "timestamp": 1729548747259,
     "user": {
      "displayName": "Ivana Hartmann Tolić",
      "userId": "05725331721369228172"
     },
     "user_tz": -120
    },
    "id": "ZTv8G0xIIfEd",
    "outputId": "072d433b-f4e2-4046-de19-9459fd68dcbf"
   },
   "outputs": [
    {
     "name": "stdout",
     "output_type": "stream",
     "text": [
      "\n",
      "Opisne statistike po vrstama cvijeta:\n",
      "           sepal_length                                              \\\n",
      "                  count   mean       std  min    25%  50%  75%  max   \n",
      "species                                                               \n",
      "setosa             50.0  5.006  0.352490  4.3  4.800  5.0  5.2  5.8   \n",
      "versicolor         50.0  5.936  0.516171  4.9  5.600  5.9  6.3  7.0   \n",
      "virginica          50.0  6.588  0.635880  4.9  6.225  6.5  6.9  7.9   \n",
      "\n",
      "           sepal_width         ... petal_length      petal_width         \\\n",
      "                 count   mean  ...          75%  max       count   mean   \n",
      "species                        ...                                        \n",
      "setosa            50.0  3.428  ...        1.575  1.9        50.0  0.246   \n",
      "versicolor        50.0  2.770  ...        4.600  5.1        50.0  1.326   \n",
      "virginica         50.0  2.974  ...        5.875  6.9        50.0  2.026   \n",
      "\n",
      "                                               \n",
      "                 std  min  25%  50%  75%  max  \n",
      "species                                        \n",
      "setosa      0.105386  0.1  0.2  0.2  0.3  0.6  \n",
      "versicolor  0.197753  1.0  1.2  1.3  1.5  1.8  \n",
      "virginica   0.274650  1.4  1.8  2.0  2.3  2.5  \n",
      "\n",
      "[3 rows x 32 columns]\n"
     ]
    }
   ],
   "source": [
    "# Dio deskriptivne statistike po vrstama cvijeta\n",
    "print(\"\\nOpisne statistike po vrstama cvijeta:\")\n",
    "print(iris.groupby('species').describe())"
   ]
  },
  {
   "cell_type": "code",
   "execution_count": null,
   "metadata": {
    "colab": {
     "base_uri": "https://localhost:8080/"
    },
    "executionInfo": {
     "elapsed": 318,
     "status": "ok",
     "timestamp": 1729549021686,
     "user": {
      "displayName": "Ivana Hartmann Tolić",
      "userId": "05725331721369228172"
     },
     "user_tz": -120
    },
    "id": "ezszkbuPI34E",
    "outputId": "38fbcbbd-ed80-4a18-bcf1-2d4f2b0db77e"
   },
   "outputs": [
    {
     "name": "stdout",
     "output_type": "stream",
     "text": [
      "\n",
      "Opisne statistike po vrstama cvijeta:\n",
      "                  sepal_length  sepal_width  petal_length  petal_width\n",
      "species                                                               \n",
      "setosa     count     50.000000    50.000000     50.000000    50.000000\n",
      "           mean       5.006000     3.428000      1.462000     0.246000\n",
      "           std        0.352490     0.379064      0.173664     0.105386\n",
      "           min        4.300000     2.300000      1.000000     0.100000\n",
      "           25%        4.800000     3.200000      1.400000     0.200000\n",
      "           50%        5.000000     3.400000      1.500000     0.200000\n",
      "           75%        5.200000     3.675000      1.575000     0.300000\n",
      "           max        5.800000     4.400000      1.900000     0.600000\n",
      "versicolor count     50.000000    50.000000     50.000000    50.000000\n",
      "           mean       5.936000     2.770000      4.260000     1.326000\n",
      "           std        0.516171     0.313798      0.469911     0.197753\n",
      "           min        4.900000     2.000000      3.000000     1.000000\n",
      "           25%        5.600000     2.525000      4.000000     1.200000\n",
      "           50%        5.900000     2.800000      4.350000     1.300000\n",
      "           75%        6.300000     3.000000      4.600000     1.500000\n",
      "           max        7.000000     3.400000      5.100000     1.800000\n",
      "virginica  count     50.000000    50.000000     50.000000    50.000000\n",
      "           mean       6.588000     2.974000      5.552000     2.026000\n",
      "           std        0.635880     0.322497      0.551895     0.274650\n",
      "           min        4.900000     2.200000      4.500000     1.400000\n",
      "           25%        6.225000     2.800000      5.100000     1.800000\n",
      "           50%        6.500000     3.000000      5.550000     2.000000\n",
      "           75%        6.900000     3.175000      5.875000     2.300000\n",
      "           max        7.900000     3.800000      6.900000     2.500000\n"
     ]
    },
    {
     "name": "stderr",
     "output_type": "stream",
     "text": [
      "<ipython-input-7-d9ff9959439d>:3: DeprecationWarning: DataFrameGroupBy.apply operated on the grouping columns. This behavior is deprecated, and in a future version of pandas the grouping columns will be excluded from the operation. Either pass `include_groups=False` to exclude the groupings or explicitly select the grouping columns after groupby to silence this warning.\n",
      "  print(iris.groupby('species').apply(lambda x: x.describe()))\n"
     ]
    }
   ],
   "source": [
    "# Opisne statistike po vrstama cvijeta\n",
    "print(\"\\nOpisne statistike po vrstama cvijeta:\")\n",
    "print(iris.groupby('species').apply(lambda x: x.describe()))"
   ]
  },
  {
   "cell_type": "code",
   "execution_count": null,
   "metadata": {
    "colab": {
     "base_uri": "https://localhost:8080/"
    },
    "executionInfo": {
     "elapsed": 383,
     "status": "ok",
     "timestamp": 1729549160088,
     "user": {
      "displayName": "Ivana Hartmann Tolić",
      "userId": "05725331721369228172"
     },
     "user_tz": -120
    },
    "id": "iOmfxLAkJ68e",
    "outputId": "c9fdcd59-9743-4bbc-cae5-69f956fa993c"
   },
   "outputs": [
    {
     "name": "stdout",
     "output_type": "stream",
     "text": [
      "\n",
      "Tipovi varijabli:\n",
      "sepal_length    float64\n",
      "sepal_width     float64\n",
      "petal_length    float64\n",
      "petal_width     float64\n",
      "species          object\n",
      "dtype: object\n"
     ]
    }
   ],
   "source": [
    "# 3. Analiza tipova varijabli\n",
    "print(\"\\nTipovi varijabli:\")\n",
    "print(iris.dtypes)"
   ]
  },
  {
   "cell_type": "code",
   "execution_count": null,
   "metadata": {
    "colab": {
     "base_uri": "https://localhost:8080/"
    },
    "executionInfo": {
     "elapsed": 382,
     "status": "ok",
     "timestamp": 1729549170312,
     "user": {
      "displayName": "Ivana Hartmann Tolić",
      "userId": "05725331721369228172"
     },
     "user_tz": -120
    },
    "id": "6eH88OY_Kcs4",
    "outputId": "e08768ee-abb9-44bc-9fb8-5c8a4434909e"
   },
   "outputs": [
    {
     "name": "stdout",
     "output_type": "stream",
     "text": [
      "\n",
      "Broj primjera po vrsti cvijeta:\n",
      "species\n",
      "setosa        50\n",
      "versicolor    50\n",
      "virginica     50\n",
      "Name: count, dtype: int64\n"
     ]
    }
   ],
   "source": [
    "# 4. Broj podataka po vrsti cvijeta\n",
    "print(\"\\nBroj primjera po vrsti cvijeta:\")\n",
    "print(iris['species'].value_counts())"
   ]
  },
  {
   "cell_type": "code",
   "execution_count": null,
   "metadata": {
    "colab": {
     "base_uri": "https://localhost:8080/"
    },
    "executionInfo": {
     "elapsed": 394,
     "status": "ok",
     "timestamp": 1729549181580,
     "user": {
      "displayName": "Ivana Hartmann Tolić",
      "userId": "05725331721369228172"
     },
     "user_tz": -120
    },
    "id": "1-JvAxYoKfNF",
    "outputId": "b73f2a46-4719-4d4f-912b-a9ea15eccc33"
   },
   "outputs": [
    {
     "name": "stdout",
     "output_type": "stream",
     "text": [
      "\n",
      "Analiza za varijablu: sepal_length\n",
      "Skewness: 0.3117530585022963\n",
      "Kurtosis: -0.5735679489249765\n",
      "\n",
      "Analiza za varijablu: sepal_width\n",
      "Skewness: 0.31576710633893473\n",
      "Kurtosis: 0.18097631752246768\n",
      "\n",
      "Analiza za varijablu: petal_length\n",
      "Skewness: -0.2721276664567214\n",
      "Kurtosis: -1.3955358863990055\n",
      "\n",
      "Analiza za varijablu: petal_width\n",
      "Skewness: -0.10193420656560036\n",
      "Kurtosis: -1.336067405231553\n"
     ]
    }
   ],
   "source": [
    "\n",
    "# 5. Izračun skewness i kurtosis za svaku numeričku varijablu\n",
    "for column in iris.columns[:-1]:  # Posljednja kolona ('species') je kategorijska\n",
    "    print(f\"\\nAnaliza za varijablu: {column}\")\n",
    "    print(f\"Skewness: {skew(iris[column])}\")\n",
    "    print(f\"Kurtosis: {kurtosis(iris[column])}\")"
   ]
  },
  {
   "cell_type": "markdown",
   "metadata": {
    "id": "SfszF847LG0M"
   },
   "source": [
    "Ovdje je analiza rezultata za svaku numeričku varijablu iz Iris dataset-a:\n",
    "1. sepal_length:\n",
    "\n",
    "    Skewness: 0.31 – Lagana pozitivna asimetrija. Distribucija je blago nagnuta u desno.\n",
    "\n",
    "    Kurtosis: -0.57 –  manje šiljasta od normalne.\n",
    "\n",
    "2. sepal_width:\n",
    "\n",
    "    Skewness: 0.32 – Lagana pozitivna asimetrija.\n",
    "\n",
    "    Kurtosis: 0.18 – Distribucija je blizu normalne.\n",
    "\n",
    "3. petal_length:\n",
    "\n",
    "    Skewness: -0.27 – Lagana negativna asimetrija. Distribucija je blago nagnuta ulijevo.\n",
    "\n",
    "    Kurtosis: -1.40 – Distribucija je manje šiljasta.\n",
    "\n",
    "4. petal_width:\n",
    "\n",
    "    Skewness: -0.10 – Gotovo simetrična distribucija.\n",
    "    \n",
    "    Kurtosis: -1.34 – Manje šiljasta, šira distribucija s manjim brojem podataka koncentriranim oko sredine."
   ]
  },
  {
   "cell_type": "code",
   "execution_count": null,
   "metadata": {
    "colab": {
     "base_uri": "https://localhost:8080/",
     "height": 1000
    },
    "executionInfo": {
     "elapsed": 4374,
     "status": "ok",
     "timestamp": 1729549228415,
     "user": {
      "displayName": "Ivana Hartmann Tolić",
      "userId": "05725331721369228172"
     },
     "user_tz": -120
    },
    "id": "8xQjfKIKKh9U",
    "outputId": "7a040a99-f35d-4d61-8c2a-2d823cb0ab02"
   },
   "outputs": [
    {
     "data": {
      "image/png": "[encoded data removed]",
      "text/plain": [
       "<Figure size 800x400 with 1 Axes>"
      ]
     },
     "metadata": {},
     "output_type": "display_data"
    },
    {
     "data": {
      "image/png": "[encoded data removed]",
      "text/plain": [
       "<Figure size 800x400 with 1 Axes>"
      ]
     },
     "metadata": {},
     "output_type": "display_data"
    },
    {
     "data": {
      "image/png": "[encoded data removed]",
      "text/plain": [
       "<Figure size 800x400 with 1 Axes>"
      ]
     },
     "metadata": {},
     "output_type": "display_data"
    },
    {
     "data": {
      "image/png": "[encoded data removed]",
      "text/plain": [
       "<Figure size 800x400 with 1 Axes>"
      ]
     },
     "metadata": {},
     "output_type": "display_data"
    }
   ],
   "source": [
    "# 6. Grafička analiza - histogrami\n",
    "for column in iris.columns[:-1]:\n",
    "    plt.figure(figsize=(8, 4))\n",
    "    plt.hist(iris[column], bins=20, edgecolor='black')\n",
    "    plt.title(f\"Histogram za {column}\")\n",
    "    plt.xlabel(column)\n",
    "    plt.ylabel('Frekvencija')\n",
    "    plt.show()"
   ]
  },
  {
   "cell_type": "code",
   "execution_count": null,
   "metadata": {
    "colab": {
     "base_uri": "https://localhost:8080/",
     "height": 1000
    },
    "executionInfo": {
     "elapsed": 1972,
     "status": "ok",
     "timestamp": 1729549473959,
     "user": {
      "displayName": "Ivana Hartmann Tolić",
      "userId": "05725331721369228172"
     },
     "user_tz": -120
    },
    "id": "rmLdPGJFKsak",
    "outputId": "5f5423c7-17cf-41a4-dc12-03a1c502e5a8"
   },
   "outputs": [
    {
     "data": {
      "image/png": "[encoded data removed]",
      "text/plain": [
       "<Figure size 800x400 with 1 Axes>"
      ]
     },
     "metadata": {},
     "output_type": "display_data"
    },
    {
     "data": {
      "image/png": "[encoded data removed]",
      "text/plain": [
       "<Figure size 800x400 with 1 Axes>"
      ]
     },
     "metadata": {},
     "output_type": "display_data"
    },
    {
     "data": {
      "image/png": "[encoded data removed]",
      "text/plain": [
       "<Figure size 800x400 with 1 Axes>"
      ]
     },
     "metadata": {},
     "output_type": "display_data"
    },
    {
     "data": {
      "image/png": "[encoded data removed]",
      "text/plain": [
       "<Figure size 800x400 with 1 Axes>"
      ]
     },
     "metadata": {},
     "output_type": "display_data"
    }
   ],
   "source": [
    "\n",
    "# 7. Grafička analiza - boxplot\n",
    "for column in iris.columns[:-1]:\n",
    "    plt.figure(figsize=(8, 4))\n",
    "    sns.boxplot(x=iris[column])\n",
    "    plt.title(f\"Boxplot za {column}\")\n",
    "    plt.xlabel(column)\n",
    "    plt.show()"
   ]
  },
  {
   "cell_type": "code",
   "execution_count": 10,
   "metadata": {
    "colab": {
     "base_uri": "https://localhost:8080/"
    },
    "executionInfo": {
     "elapsed": 341,
     "status": "ok",
     "timestamp": 1729549553310,
     "user": {
      "displayName": "Ivana Hartmann Tolić",
      "userId": "05725331721369228172"
     },
     "user_tz": -120
    },
    "id": "N5enJ1kdLo8u",
    "outputId": "c3a3d6f0-0bc3-4921-ce5f-5ab1debb4b46"
   },
   "outputs": [
    {
     "name": "stdout",
     "output_type": "stream",
     "text": [
      "\n",
      "Korelacijska matrica:\n",
      "              sepal_length  sepal_width  petal_length  petal_width\n",
      "sepal_length      1.000000    -0.117570      0.871754     0.817941\n",
      "sepal_width      -0.117570     1.000000     -0.428440    -0.366126\n",
      "petal_length      0.871754    -0.428440      1.000000     0.962865\n",
      "petal_width       0.817941    -0.366126      0.962865     1.000000\n"
     ]
    }
   ],
   "source": [
    "# 8. Korelacijska matrica i toplinska karta\n",
    "print(\"\\nKorelacijska matrica:\")\n",
    "corr_matrix = iris.select_dtypes(include=['float64', 'int64']).corr()\n",
    "print(corr_matrix)"
   ]
  },
  {
   "cell_type": "code",
   "execution_count": 9,
   "metadata": {
    "colab": {
     "base_uri": "https://localhost:8080/",
     "height": 699
    },
    "executionInfo": {
     "elapsed": 1349,
     "status": "ok",
     "timestamp": 1729549575763,
     "user": {
      "displayName": "Ivana Hartmann Tolić",
      "userId": "05725331721369228172"
     },
     "user_tz": -120
    },
    "id": "Wr3WfjjHLtIw",
    "outputId": "6f64deb4-9ed3-4839-93fe-14297d51b4c2"
   },
   "outputs": [
    {
     "data": {
      "image/png": "[encoded data removed]",
      "text/plain": [
       "<Figure size 1000x800 with 2 Axes>"
      ]
     },
     "metadata": {},
     "output_type": "display_data"
    }
   ],
   "source": [
    "plt.figure(figsize=(10, 8))\n",
    "sns.heatmap(corr_matrix, annot=True, cmap='coolwarm', linewidths=0.5)\n",
    "plt.title('Korelacijska matrica - Iris Dataset')\n",
    "plt.show()"
   ]
  },
  {
   "cell_type": "markdown",
   "metadata": {
    "id": "KBxIWaF0MNZk"
   },
   "source": [
    "Na temelju korelacijske matrice prikazane na slici, možemo analizirati sljedeće:\n",
    "\n",
    "  **Sepal Length i Petal Length:** Imaju visoku pozitivnu korelaciju (0.87). To znači da, kako duljina čašičnog listića raste, raste i duljina latice.\n",
    "  \n",
    "  **Petal Length i Petal Width**: Vrlo su visoko pozitivno povezani (0.96), što ukazuje na snažnu vezu između duljine i širine latice.\n",
    "  \n",
    "  **Sepal Width:** Slabo negativno ili gotovo bez korelacije s ostalim varijablama (najniža korelacija -0.43 s petal_length), što znači da se promjene u širini čašičnih listića ne podudaraju značajno s promjenama drugih varijabli.\n",
    "\n",
    "Korelacijska matrica pomaže razumjeti odnose među varijablama, što je korisno za odabir značajki u analizi ili modeliranju."
   ]
  },
  {
   "cell_type": "code",
   "execution_count": null,
   "metadata": {
    "id": "JSxKXV5rMB9B"
   },
   "outputs": [],
   "source": []
  }
 ],
 "metadata": {
  "colab": {
   "authorship_tag": "ABX9TyNDROwz6jPWg5noz48/+jxW",
   "provenance": []
  },
  "kernelspec": {
   "display_name": "base",
   "language": "python",
   "name": "python3"
  },
  "language_info": {
   "codemirror_mode": {
    "name": "ipython",
    "version": 3
   },
   "file_extension": ".py",
   "mimetype": "text/x-python",
   "name": "python",
   "nbconvert_exporter": "python",
   "pygments_lexer": "ipython3",
   "version": "3.12.4"
  }
 },
 "nbformat": 4,
 "nbformat_minor": 0
}
