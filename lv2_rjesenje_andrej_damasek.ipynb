{
  "nbformat": 4,
  "nbformat_minor": 0,
  "metadata": {
    "colab": {
      "provenance": [],
      "authorship_tag": "ABX9TyMbFrRfRd1NkW8wPxJ1BB9I",
      "include_colab_link": true
    },
    "kernelspec": {
      "name": "python3",
      "display_name": "Python 3"
    },
    "language_info": {
      "name": "python"
    }
  },
  "cells": [
    {
      "cell_type": "markdown",
      "metadata": {
        "id": "view-in-github",
        "colab_type": "text"
      },
      "source": [
        "<a href=\"https://colab.research.google.com/github/andrejdamasek/MSAP/blob/main/lv2_rjesenje_andrej_damasek.ipynb\" target=\"_parent\"><img src=\"https://colab.research.google.com/assets/colab-badge.svg\" alt=\"Open In Colab\"/></a>"
      ]
    },
    {
      "cell_type": "code",
      "execution_count": null,
      "metadata": {
        "colab": {
          "base_uri": "https://localhost:8080/"
        },
        "collapsed": true,
        "id": "BgV41Q0pkUJl",
        "outputId": "857af6b1-b017-437a-afc4-2989c78a3c02"
      },
      "outputs": [
        {
          "output_type": "stream",
          "name": "stdout",
          "text": [
            "  spol  gastrS  somatS  somatZ  pusenje  alkohol  kava  CLOtest dijagnoza,,,\n",
            "0    z    92.3     3.1   29.31        1        0     1        1            G\n",
            "1    z    49.5     8.5    5.52        0        0     1        1            G\n",
            "2    z    40.5    16.2   15.22        1        0     1        0            G\n",
            "3    z    42.7    16.0    3.67        0        0     1        0           G,\n",
            "4    z    48.2    16.0   66.97        1        0     1        0           G,\n",
            "<class 'pandas.core.frame.DataFrame'>\n",
            "RangeIndex: 82 entries, 0 to 81\n",
            "Data columns (total 9 columns):\n",
            " #   Column        Non-Null Count  Dtype  \n",
            "---  ------        --------------  -----  \n",
            " 0   spol          82 non-null     string \n",
            " 1   gastrS        78 non-null     Float64\n",
            " 2   somatS        77 non-null     Float64\n",
            " 3   somatZ        81 non-null     Float64\n",
            " 4   pusenje       82 non-null     Int64  \n",
            " 5   alkohol       82 non-null     Int64  \n",
            " 6   kava          82 non-null     Int64  \n",
            " 7   CLOtest       82 non-null     Int64  \n",
            " 8   dijagnoza,,,  82 non-null     string \n",
            "dtypes: Float64(3), Int64(4), string(2)\n",
            "memory usage: 6.5 KB\n",
            "None\n",
            "          gastrS     somatS     somatZ   pusenje   alkohol      kava   CLOtest\n",
            "count       78.0       77.0       81.0      82.0      82.0      82.0      82.0\n",
            "mean   52.592436  21.142468  21.308395   0.47561  0.378049  0.841463  0.853659\n",
            "std    17.746123  32.768487  30.358794  0.502478  0.487884  0.367491  0.355623\n",
            "min        16.23       2.34        0.0       0.0       0.0       0.0       0.0\n",
            "25%        41.87       6.69       5.56       0.0       0.0       1.0       1.0\n",
            "50%        48.55      11.05      12.17       0.0       0.0       1.0       1.0\n",
            "75%        58.27       17.0      20.14       1.0       1.0       1.0       1.0\n",
            "max        140.3      231.0     148.16       1.0       1.0       1.0       1.0\n",
            "spol            0\n",
            "gastrS          4\n",
            "somatS          5\n",
            "somatZ          1\n",
            "pusenje         0\n",
            "alkohol         0\n",
            "kava            0\n",
            "CLOtest         0\n",
            "dijagnoza,,,    0\n",
            "dtype: int64\n",
            "spol            82\n",
            "gastrS          82\n",
            "somatS          82\n",
            "somatZ          82\n",
            "pusenje         82\n",
            "alkohol         82\n",
            "kava            82\n",
            "CLOtest         82\n",
            "dijagnoza,,,    82\n",
            "dtype: int64\n"
          ]
        }
      ],
      "source": [
        "import pandas as pd\n",
        "from scipy import stats\n",
        "from scipy.stats import skew, kurtosis\n",
        "import matplotlib.pyplot as plt\n",
        "import numpy as np\n",
        "\n",
        "data=pd.read_csv('/content/sample_data/hormon.csv',sep=';', decimal=',').convert_dtypes()\n",
        "\n",
        "print(data.head())\n",
        "print(data.info())\n",
        "print(data.describe())\n",
        "\n",
        "print(data.isnull().sum())\n",
        "data['gastrS']=data['gastrS'].fillna(data['gastrS'].median())\n",
        "data['somatS']=data['somatS'].fillna(data['somatS'].median())\n",
        "data['somatZ']=data['somatZ'].fillna(data['somatZ'].median())\n",
        "print(data.count())\n",
        "\n",
        "\n"
      ]
    },
    {
      "cell_type": "markdown",
      "source": [
        " KORAK 1:\n",
        " Postoje 3 float varijable, 4 int varijable i 2 string varijable. Za varijable gastrS, somatS i somatZ nedostaju neke vrijednosti, a ostalih vrijednosti ima sveukupno 82. Za nedostajuće vrijednosti dodali smo medijan tih varijabli, te svih varijabli sada postoji 82."
      ],
      "metadata": {
        "id": "AJ8P9A3_p5T0"
      }
    },
    {
      "cell_type": "code",
      "source": [
        "import seaborn as sns\n",
        "print(data['gastrS'].describe())\n",
        "print('skew ',data['gastrS'].skew())\n",
        "print('kurtosis', data['gastrS'].kurtosis())\n",
        "standardna_devijacija=np.std(data['gastrS'],ddof=0)\n",
        "print('std:' ,standardna_devijacija)\n",
        "\n",
        "plt.hist(data['gastrS'])\n",
        "plt.ylabel('number of units')\n",
        "plt.title('Distribucija varijable gastrS')\n",
        "plt.show()\n",
        "\n",
        "sns.boxplot(x=data['gastrS'])\n",
        "plt.title('Boxplot varijable gastrS')\n",
        "plt.show()\n"
      ],
      "metadata": {
        "colab": {
          "base_uri": "https://localhost:8080/",
          "height": 1000
        },
        "id": "yhdUmHpRrY7d",
        "outputId": "5aa29bfd-a8ac-4d0e-de7c-8a0f12c9f8fa"
      },
      "execution_count": null,
      "outputs": [
        {
          "output_type": "stream",
          "name": "stdout",
          "text": [
            "count         82.0\n",
            "mean     52.395244\n",
            "std      17.324568\n",
            "min          16.23\n",
            "25%           42.0\n",
            "50%          48.55\n",
            "75%        56.0225\n",
            "max          140.3\n",
            "Name: gastrS, dtype: Float64\n",
            "skew  2.2429778753364262\n",
            "kurtosis 7.961725322695685\n",
            "std: 17.218606231349497\n"
          ]
        },
        {
          "output_type": "display_data",
          "data": {
            "text/plain": [
              "<Figure size 640x480 with 1 Axes>"
            ],
            "image/png": "[encoded data removed]"
          },
          "metadata": {}
        },
        {
          "output_type": "display_data",
          "data": {
            "text/plain": [
              "<Figure size 640x480 with 1 Axes>"
            ],
            "image/png": "[encoded data removed]"
          },
          "metadata": {}
        }
      ]
    },
    {
      "cell_type": "markdown",
      "source": [
        "KORAK 2:\n",
        "'gastrS'\n",
        "\n",
        "count         82.0\n",
        "mean     52.395244\n",
        "std      17.324568\n",
        "min          16.23\n",
        "25%           42.0\n",
        "50%          48.55\n",
        "75%        56.0225\n",
        "max          140.3\n",
        "\n",
        "Maksimalna vrijednost je 140.3, a medijalan vrijednosti 52.395244, a standardna devijacija je 17.218606231349497\n",
        "\n",
        "Vrijednost za 'gastrS' skew  2.2429778753364262 što znači da je pozitivna asimetrija (pomaknuto u lijevo, što također možemo vidjeti na histogramu),\n",
        "kurtosis 7.961725322695685 što znači da je spljoštenost leptokurtičnost  (krivulja izgleda “visoka i vitka”).\n",
        "\n",
        "Sa boxplota vidimo da postoje outlieri, više outliera ima koji su veći od maksimalne vrijednosti (5) i imamo jedan outlier koji je manji od minimuma."
      ],
      "metadata": {
        "id": "LwY2V2eerqH9"
      }
    },
    {
      "cell_type": "code",
      "source": [
        "from scipy.stats import shapiro\n",
        "data['gastrS']=data['gastrS'].fillna(data['gastrS'].mean())\n",
        "stat, p_value = shapiro(data['gastrS'])\n",
        "print(f\"Shapiro-Wilk statistika: {stat}, P-vrijednost: {p_value}\")\n",
        "if p_value>0.05:\n",
        "  print('Distribucija je normalna')\n",
        "else:\n",
        "  print('Distribucija nije normalna')\n",
        "\n",
        "n=data['gastrS'].count()\n",
        "razina_pouzdanosti=0.99\n",
        "alfa = 1 - razina_pouzdanosti\n",
        "t_vrijednost = stats.t.ppf(1 - alfa / 2, df=n-1) # Kritična vrijednost t-distribucije za zadani stupanj slobode\n",
        "# Izračun margine pogreške\n",
        "margina_pogreske = t_vrijednost * (standardna_devijacija / np.sqrt(n-1))\n",
        "# Interval povjerenja\n",
        "srednja_vrijednost=data['gastrS'].mean()\n",
        "donja_granica = srednja_vrijednost - margina_pogreske\n",
        "gornja_granica = srednja_vrijednost + margina_pogreske\n",
        "print(f\"99% interval povjerenja: ({donja_granica:.2f},{gornja_granica:.2f})\")\n"
      ],
      "metadata": {
        "colab": {
          "base_uri": "https://localhost:8080/"
        },
        "collapsed": true,
        "id": "OO4Qop4juint",
        "outputId": "ca754032-8846-46ac-ed06-013a1a3507b6"
      },
      "execution_count": null,
      "outputs": [
        {
          "output_type": "stream",
          "name": "stdout",
          "text": [
            "Shapiro-Wilk statistika: 0.7976637579529138, P-vrijednost: 2.989021771073396e-09\n",
            "Distribucija nije normalna\n",
            "99% interval povjerenja: (47.35,57.44)\n"
          ]
        }
      ]
    },
    {
      "cell_type": "markdown",
      "source": [
        "KORAK 3:\n",
        "\n",
        "\n",
        "Koristimo t-test, koristi se neparametarska metoda. Pomoću Shapiro-Wilk testa dokazali smo da je p-vrijednost manja od 0.05 (2.989021771073396e-09) što znaći da distribucija podataka nije normalno distribuirana. S pouzdanosti od 99% možemo tvrditi da se prosječna vrijednost za varijablu 'gastrS' nalazi u intervalu od 47.35 do 57.44."
      ],
      "metadata": {
        "id": "7UqL2lkcwxWY"
      }
    },
    {
      "cell_type": "code",
      "source": [
        "import pandas as pd\n",
        "from scipy.stats import chi2_contingency\n",
        "ct_spol=pd.crosstab(data['pusenje'],data['spol'])\n",
        "chi2_stat, p_val_chi2, dof, expected = chi2_contingency(ct_spol)\n",
        "print('stat: ',chi2_stat)\n",
        "print('P: ',p_val_chi2)\n",
        "\n",
        "if p_val_chi2<0.05:\n",
        "  print('Spol i pusenje su povezane')\n",
        "else:\n",
        "  print('Spol i pusenje nisu povezane')\n",
        "\n",
        "ct_spol.plot(kind='bar')\n",
        "plt.title('Stupčasti dijagram')\n",
        "plt.xlabel('pusenje')\n",
        "plt.ylabel('brojcanost')\n",
        "plt.show()"
      ],
      "metadata": {
        "colab": {
          "base_uri": "https://localhost:8080/",
          "height": 521
        },
        "collapsed": true,
        "id": "AyDadEqF2P3P",
        "outputId": "1912a1ba-b583-4814-9d27-b77ec0bf6a81"
      },
      "execution_count": null,
      "outputs": [
        {
          "output_type": "stream",
          "name": "stdout",
          "text": [
            "stat:  3.9201585881818457\n",
            "P:  0.047710379340530996\n",
            "Spol i pusenje su povezane\n"
          ]
        },
        {
          "output_type": "display_data",
          "data": {
            "text/plain": [
              "<Figure size 640x480 with 1 Axes>"
            ],
            "image/png": "[encoded data removed]"
          },
          "metadata": {}
        }
      ]
    },
    {
      "cell_type": "markdown",
      "source": [
        "Vrijednosti p_val_chi2 je 0.0477 što znači da postoji statistička značajnost da postoji povezanost između spola i pušenja.  Iz stupčastog dijagrama vidimo da većina muškaraca puši dok, većina žena ne puši."
      ],
      "metadata": {
        "id": "6-rhtg_J22r4"
      }
    },
    {
      "cell_type": "markdown",
      "source": [
        "ZAKLJUČAK:\n",
        "\n",
        "1. Za testiranje normalnosti distribucije podataka koristili smo Shapiro-Wilk test iz kojeg smo saznali da distribucija nije normalna pošto je p vrijednost bila manja od 0.05 ( 2.989021771073396e-09).\n",
        "\n",
        "2. Za usporedbu skupina koristio sam t-test jer nemamo normalu distribuciju podataka.\n",
        "\n",
        "\n",
        "3. Za interval povjerenja od 99% dobili smo vrijednosti (47.35,57.44), što znači da smo mi sa 99% sigurni da se srednja vrijednost nalazi u tom intervalu.\n",
        "\n",
        "\n",
        "4. Postoj statistička značajnost između spola i pušenja gdje smo iz stupčastog dijagrama vidjeli da većina muškaraca puši dok, većina žena ne puši.\n"
      ],
      "metadata": {
        "id": "cRYERucg6QYA"
      }
    },
    {
      "cell_type": "code",
      "source": [],
      "metadata": {
        "id": "9XtSzr5z9d2W"
      },
      "execution_count": null,
      "outputs": []
    }
  ]
}